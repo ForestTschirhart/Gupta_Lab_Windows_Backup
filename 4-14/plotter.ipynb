{
 "cells": [
  {
   "cell_type": "code",
   "execution_count": 2,
   "id": "937b8fc7",
   "metadata": {},
   "outputs": [],
   "source": [
    "import matplotlib.pyplot as plt\n",
    "import numpy as np\n",
    "import pandas as pd"
   ]
  },
  {
   "cell_type": "code",
   "execution_count": 3,
   "id": "f28bd8af",
   "metadata": {},
   "outputs": [
    {
     "name": "stderr",
     "output_type": "stream",
     "text": [
      "<>:1: SyntaxWarning: invalid escape sequence '\\d'\n",
      "<>:1: SyntaxWarning: invalid escape sequence '\\d'\n",
      "C:\\Users\\foresttschirhart\\AppData\\Local\\Temp\\ipykernel_17092\\2652653610.py:1: SyntaxWarning: invalid escape sequence '\\d'\n",
      "  data = pd.read_csv('unlocked\\data_0_1744684011.4864514.csv', skiprows=5)\n"
     ]
    },
    {
     "data": {
      "text/html": [
       "<div>\n",
       "<style scoped>\n",
       "    .dataframe tbody tr th:only-of-type {\n",
       "        vertical-align: middle;\n",
       "    }\n",
       "\n",
       "    .dataframe tbody tr th {\n",
       "        vertical-align: top;\n",
       "    }\n",
       "\n",
       "    .dataframe thead th {\n",
       "        text-align: right;\n",
       "    }\n",
       "</style>\n",
       "<table border=\"1\" class=\"dataframe\">\n",
       "  <thead>\n",
       "    <tr style=\"text-align: right;\">\n",
       "      <th></th>\n",
       "      <th>ch1</th>\n",
       "      <th>ch2</th>\n",
       "      <th>time</th>\n",
       "    </tr>\n",
       "  </thead>\n",
       "  <tbody>\n",
       "    <tr>\n",
       "      <th>0</th>\n",
       "      <td>0.001221</td>\n",
       "      <td>-3.600391</td>\n",
       "      <td>-0.010001</td>\n",
       "    </tr>\n",
       "    <tr>\n",
       "      <th>1</th>\n",
       "      <td>0.001221</td>\n",
       "      <td>-3.618710</td>\n",
       "      <td>-0.009981</td>\n",
       "    </tr>\n",
       "    <tr>\n",
       "      <th>2</th>\n",
       "      <td>0.001221</td>\n",
       "      <td>-3.635809</td>\n",
       "      <td>-0.009961</td>\n",
       "    </tr>\n",
       "    <tr>\n",
       "      <th>3</th>\n",
       "      <td>0.001221</td>\n",
       "      <td>-3.652907</td>\n",
       "      <td>-0.009942</td>\n",
       "    </tr>\n",
       "    <tr>\n",
       "      <th>4</th>\n",
       "      <td>0.001221</td>\n",
       "      <td>-3.670005</td>\n",
       "      <td>-0.009922</td>\n",
       "    </tr>\n",
       "    <tr>\n",
       "      <th>...</th>\n",
       "      <td>...</td>\n",
       "      <td>...</td>\n",
       "      <td>...</td>\n",
       "    </tr>\n",
       "    <tr>\n",
       "      <th>1019</th>\n",
       "      <td>-0.001221</td>\n",
       "      <td>0.785296</td>\n",
       "      <td>0.010053</td>\n",
       "    </tr>\n",
       "    <tr>\n",
       "      <th>1020</th>\n",
       "      <td>-0.002443</td>\n",
       "      <td>0.768197</td>\n",
       "      <td>0.010073</td>\n",
       "    </tr>\n",
       "    <tr>\n",
       "      <th>1021</th>\n",
       "      <td>-0.001221</td>\n",
       "      <td>0.753542</td>\n",
       "      <td>0.010093</td>\n",
       "    </tr>\n",
       "    <tr>\n",
       "      <th>1022</th>\n",
       "      <td>-0.001221</td>\n",
       "      <td>0.734001</td>\n",
       "      <td>0.010112</td>\n",
       "    </tr>\n",
       "    <tr>\n",
       "      <th>1023</th>\n",
       "      <td>0.000000</td>\n",
       "      <td>0.718124</td>\n",
       "      <td>0.010132</td>\n",
       "    </tr>\n",
       "  </tbody>\n",
       "</table>\n",
       "<p>1024 rows × 3 columns</p>\n",
       "</div>"
      ],
      "text/plain": [
       "           ch1       ch2      time\n",
       "0     0.001221 -3.600391 -0.010001\n",
       "1     0.001221 -3.618710 -0.009981\n",
       "2     0.001221 -3.635809 -0.009961\n",
       "3     0.001221 -3.652907 -0.009942\n",
       "4     0.001221 -3.670005 -0.009922\n",
       "...        ...       ...       ...\n",
       "1019 -0.001221  0.785296  0.010053\n",
       "1020 -0.002443  0.768197  0.010073\n",
       "1021 -0.001221  0.753542  0.010093\n",
       "1022 -0.001221  0.734001  0.010112\n",
       "1023  0.000000  0.718124  0.010132\n",
       "\n",
       "[1024 rows x 3 columns]"
      ]
     },
     "execution_count": 3,
     "metadata": {},
     "output_type": "execute_result"
    }
   ],
   "source": [
    "data = pd.read_csv('unlocked\\data_0_1744684011.4864514.csv', skiprows=5)\n",
    "data"
   ]
  },
  {
   "cell_type": "code",
   "execution_count": 6,
   "id": "88597b57",
   "metadata": {},
   "outputs": [
    {
     "data": {
      "text/plain": [
       "Text(0, 0.5, 'Voltage (V)')"
      ]
     },
     "execution_count": 6,
     "metadata": {},
     "output_type": "execute_result"
    },
    {
     "data": {
      "image/png": "[encoded data removed]",
      "text/plain": [
       "<Figure size 640x480 with 1 Axes>"
      ]
     },
     "metadata": {},
     "output_type": "display_data"
    }
   ],
   "source": [
    "plt.plot(data['time']*1e3, data['ch1']*30+4, label='ch1')\n",
    "plt.plot(data['time']*1e3, data['ch2'], label='ch2')\n",
    "# plt.xlim(0.01, 0.0125)\n",
    "# plt.axvline(x=0.011, color='r', linestyle='--', label='0.011s')\n",
    "# plt.axvline(x=0.0111, color='g', linestyle='--', label='0.012s')\n",
    "plt.xlim(3.5,4.5)\n",
    "plt.xlabel('Time (ms)')\n",
    "plt.ylabel('Voltage (V)')"
   ]
  },
  {
   "cell_type": "code",
   "execution_count": null,
   "id": "b7460df7",
   "metadata": {},
   "outputs": [],
   "source": [
    "\n"
   ]
  },
  {
   "cell_type": "code",
   "execution_count": null,
   "id": "a1158506",
   "metadata": {},
   "outputs": [],
   "source": []
  }
 ],
 "metadata": {
  "kernelspec": {
   "display_name": "base",
   "language": "python",
   "name": "python3"
  },
  "language_info": {
   "codemirror_mode": {
    "name": "ipython",
    "version": 3
   },
   "file_extension": ".py",
   "mimetype": "text/x-python",
   "name": "python",
   "nbconvert_exporter": "python",
   "pygments_lexer": "ipython3",
   "version": "3.12.7"
  }
 },
 "nbformat": 4,
 "nbformat_minor": 5
}
